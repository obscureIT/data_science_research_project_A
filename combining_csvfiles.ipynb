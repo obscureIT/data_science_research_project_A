{
 "cells": [
  {
   "cell_type": "code",
   "execution_count": 5,
   "id": "de9182b9-066a-4f38-96f7-bb159f268e02",
   "metadata": {},
   "outputs": [
    {
     "name": "stdout",
     "output_type": "stream",
     "text": [
      "Combined CSV saved to C:\\Users\\akifk\\Trimester 5\\Data Science Research Project A\\Data\\reddit_data\\comments\\comments_combined\\comments_combined.csv\n"
     ]
    }
   ],
   "source": [
    "import os\n",
    "import pandas as pd\n",
    "\n",
    "# Folder containing the CSV files\n",
    "folder_path = r\"C:\\Users\\akifk\\Trimester 5\\Data Science Research Project A\\Data\\reddit_data\\comments\"\n",
    "\n",
    "# List to store DataFrames\n",
    "dataframes = []\n",
    "\n",
    "# Loop through all files in the folder\n",
    "for file in os.listdir(folder_path):\n",
    "    if file.endswith(\".csv\"):  # Check if the file is a CSV\n",
    "        file_path = os.path.join(folder_path, file)\n",
    "        df = pd.read_csv(file_path)  # Read the CSV file\n",
    "        dataframes.append(df)  # Add the DataFrame to the list\n",
    "\n",
    "# Concatenate all DataFrames\n",
    "combined_df = pd.concat(dataframes, ignore_index=True)\n",
    "\n",
    "# Save the combined DataFrame to a new CSV file\n",
    "output_path = r\"C:\\Users\\akifk\\Trimester 5\\Data Science Research Project A\\Data\\reddit_data\\comments\\comments_combined\\comments_combined.csv\"\n",
    "combined_df.to_csv(output_path, index=False)\n",
    "\n",
    "print(f\"Combined CSV saved to {output_path}\")"
   ]
  }
 ],
 "metadata": {
  "kernelspec": {
   "display_name": "Python 3 (ipykernel)",
   "language": "python",
   "name": "python3"
  },
  "language_info": {
   "codemirror_mode": {
    "name": "ipython",
    "version": 3
   },
   "file_extension": ".py",
   "mimetype": "text/x-python",
   "name": "python",
   "nbconvert_exporter": "python",
   "pygments_lexer": "ipython3",
   "version": "3.12.7"
  }
 },
 "nbformat": 4,
 "nbformat_minor": 5
}
